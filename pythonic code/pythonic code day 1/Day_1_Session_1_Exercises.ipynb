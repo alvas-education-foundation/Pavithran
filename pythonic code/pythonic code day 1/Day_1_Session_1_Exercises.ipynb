{
  "nbformat": 4,
  "nbformat_minor": 0,
  "metadata": {
    "colab": {
      "name": "Day 1 Session 1 Exercises.ipynb",
      "provenance": [],
      "collapsed_sections": []
    },
    "kernelspec": {
      "name": "python3",
      "display_name": "Python 3"
    }
  },
  "cells": [
    {
      "cell_type": "markdown",
      "metadata": {
        "id": "_S449VDvNMj7",
        "colab_type": "text"
      },
      "source": [
        "Find the Compound Interest"
      ]
    },
    {
      "cell_type": "code",
      "metadata": {
        "id": "RPER9SFPNSQn",
        "colab_type": "code",
        "colab": {
          "base_uri": "https://localhost:8080/",
          "height": 87
        },
        "outputId": "6ca1c517-2921-4a0e-bfe4-e6bb4db4bb88"
      },
      "source": [
        "def compound_interest(principle, rate, time):\n",
        "   CI = principle * (pow((1 + rate / 100), time))\n",
        "   print(\"Compound interest : \", CI)\n",
        "# main\n",
        "p = int(input(\"Enter the Principle : \"))\n",
        "r = float(input(\"Enter the Rate of Interest : \"))\n",
        "t = int(input(\"Enter the Time : \"))\n",
        "compound_interest(p, r, t)"
      ],
      "execution_count": null,
      "outputs": [
        {
          "output_type": "stream",
          "text": [
            "Enter the Principle : 10000\n",
            "Enter the Rate of Interest : 7.78\n",
            "Enter the Time : 2\n",
            "Compound interest :  11616.528400000001\n"
          ],
          "name": "stdout"
        }
      ]
    },
    {
      "cell_type": "markdown",
      "metadata": {
        "id": "7JSECXoSN-3x",
        "colab_type": "text"
      },
      "source": [
        "Convert centegrade to farenheit  "
      ]
    },
    {
      "cell_type": "code",
      "metadata": {
        "id": "eKiRa4_PODMm",
        "colab_type": "code",
        "colab": {
          "base_uri": "https://localhost:8080/",
          "height": 52
        },
        "outputId": "5894d2a9-0a2a-43d8-ece1-13631f366217"
      },
      "source": [
        "celsius = float(input(\"Enter temperature in celsius: \"))\n",
        "fahrenheit = (celsius * 9/5) + 32\n",
        "print('%.2f Celsius is: %0.2f Fahrenheit' %(celsius, fahrenheit))"
      ],
      "execution_count": null,
      "outputs": [
        {
          "output_type": "stream",
          "text": [
            "Enter temperature in celsius: 33\n",
            "33.00 Celsius is: 91.40 Fahrenheit\n"
          ],
          "name": "stdout"
        }
      ]
    },
    {
      "cell_type": "markdown",
      "metadata": {
        "id": "SFXhu6wEOXUE",
        "colab_type": "text"
      },
      "source": [
        "Find the greater of two nos "
      ]
    },
    {
      "cell_type": "code",
      "metadata": {
        "id": "13nJbqtjObfr",
        "colab_type": "code",
        "colab": {
          "base_uri": "https://localhost:8080/",
          "height": 69
        },
        "outputId": "fcbf3d4a-1051-4eff-9c1b-9fcee705fac7"
      },
      "source": [
        "a = int(input('Enter first number: '))\n",
        "b = int(input('Enter second number: '))\n",
        "if a>b:\n",
        "\tprint('{0} is greater than {1}'.format(a,b))\n",
        "elif b>a:\n",
        "\tprint(\"{0} is greater than {1}\".format(b,a))\n",
        "else:\n",
        "  print(\"Both the numbers are equal\")"
      ],
      "execution_count": null,
      "outputs": [
        {
          "output_type": "stream",
          "text": [
            "Enter first number: 2\n",
            "Enter second number: 2\n",
            "Both the numbers are equal\n"
          ],
          "name": "stdout"
        }
      ]
    },
    {
      "cell_type": "markdown",
      "metadata": {
        "id": "lk7cSdZRRoLa",
        "colab_type": "text"
      },
      "source": [
        "Finding surface areas of cylinder and cone"
      ]
    },
    {
      "cell_type": "code",
      "metadata": {
        "id": "BKsxLdojRuf2",
        "colab_type": "code",
        "colab": {
          "base_uri": "https://localhost:8080/",
          "height": 87
        },
        "outputId": "4fe3f210-e2b3-48ed-d857-fd54b5136437"
      },
      "source": [
        "#Write a program for finding surface areas of cylinder and cone (2*PI*r*r*h, 1/3*PI*r*r*h) using function.\n",
        "\n",
        "# Importing Math library for value Of PI \n",
        "import math \n",
        "pi = math.pi \n",
        "\n",
        "# Function to calculate Surface Area of Cylinder \n",
        "def surfacearea1(r, h): \n",
        "\treturn 2 * pi * r * r * h \n",
        "\n",
        "# Function To Calculate Surface Area of Cone \n",
        "def surfacearea2(r, h): \n",
        "\treturn (1 / 3) * pi * r * r * h \n",
        "\n",
        "\n",
        "radius = float(input(\"Enter the radius \"))\n",
        "height = float(input(\"Enter the height\"))\n",
        "\n",
        "print( \"Surface Area Of Cylinder : \", surfacearea1(radius, height) ) \n",
        "print( \"Surface Area Of Cone : \", surfacearea2(radius, height) )"
      ],
      "execution_count": null,
      "outputs": [
        {
          "output_type": "stream",
          "text": [
            "Enter the radius 2\n",
            "Enter the height5\n",
            "Surface Area Of Cylinder :  125.66370614359172\n",
            "Surface Area Of Cone :  8.377580409572781\n"
          ],
          "name": "stdout"
        }
      ]
    },
    {
      "cell_type": "markdown",
      "metadata": {
        "id": "cO_wBT4kUnjD",
        "colab_type": "text"
      },
      "source": [
        "Find the greatest of four nos ( using ‘and’ operator) using function."
      ]
    },
    {
      "cell_type": "code",
      "metadata": {
        "id": "RxzaxDNPUqUM",
        "colab_type": "code",
        "colab": {
          "base_uri": "https://localhost:8080/",
          "height": 104
        },
        "outputId": "3a70ddef-3e3d-4ca7-9d70-367ff9faad01"
      },
      "source": [
        "#Find the greatest of four nos ( using ‘and’ operator)   using function.\n",
        "n1 = input(\"Enter the first number \")\n",
        "n2 = input(\"Enter the second number \")\n",
        "n3 = input(\"Enter the third number \")\n",
        "n4 = input(\"Enter the fourth number \")\n",
        "  \n",
        "mx = (n1 if (n1 > n2 and n1 > n2 and n1 > n4)  \n",
        "         else (n2 if (n2 > n3 and n3 > n4)  \n",
        "         else (n3 if n3 > n4 else n4))) \n",
        "  \n",
        "# str() function is used to convert  \n",
        "# integer to string, it is required  \n",
        "# as we are concatenating integers \n",
        "# with string \n",
        "print(\"Largest number among \" + str(n1) + \", \" + str(n2) + \", \" + str(n3) + \" and \" + str(n4) + \" is \" + str(mx))"
      ],
      "execution_count": null,
      "outputs": [
        {
          "output_type": "stream",
          "text": [
            "Enter the first number 1\n",
            "Enter the second number 2\n",
            "Enter the third number 3\n",
            "Enter the fourth number 4\n",
            "Largest number among 1, 2, 3 and 4 is 4\n"
          ],
          "name": "stdout"
        }
      ]
    },
    {
      "cell_type": "markdown",
      "metadata": {
        "id": "c-vMDS6KU-h2",
        "colab_type": "text"
      },
      "source": [
        "ODDorEven, Factorial, ODDNoUptoN, PrimeUptoN"
      ]
    },
    {
      "cell_type": "code",
      "metadata": {
        "id": "gvVOWGt3VGKi",
        "colab_type": "code",
        "colab": {
          "base_uri": "https://localhost:8080/",
          "height": 1000
        },
        "outputId": "361bde08-22b4-4231-c7ca-b2e441c229fa"
      },
      "source": [
        "#Write a  menu program to perform the operations ( ODDorEven, Factorial, ODDNoUptoN, PrimeUptoN ) using functions for two nos with  menu choice\n",
        "loop = 1 # 1 means loop; anything else means don't loop.\n",
        "choice = 0 # This variable holds the user's choice in the menu\n",
        "\n",
        "def oddoreven():\n",
        "    num = int(input(\"Enter a number: \"))\n",
        "    if (num % 2) == 0:\n",
        "      print(\"{0} is Even\".format(num))\n",
        "    else:\n",
        "      print(\"{0} is Odd\".format(num)) \n",
        "\n",
        "\n",
        "def factorial():\n",
        "  num = int(input(\"enter the number\"))\n",
        "  factorial = 1\n",
        "  if num < 0:\n",
        "    print(\"Sorry, factorial does not exist for negative numbers\")\n",
        "  elif num == 0:\n",
        "    print(\"The factorial of 0 is 1\")\n",
        "  else:\n",
        "    for i in range(1,num + 1):\n",
        "      factorial = factorial*i\n",
        "      print(\"The factorial of\",num,\"is\",factorial)\n",
        "\n",
        "\n",
        "def oddtilln():\n",
        "    maximum = int(input(\" Please Enter any Maximum Value : \"))\n",
        "    for number in range(1, maximum + 1):\n",
        "     if(number % 2 != 0):\n",
        "        print(\"{0}\".format(number))\n",
        "\n",
        "\n",
        "def primetilln():\n",
        "    upto = int(input(\"Find prime numbers upto : \"))\n",
        "\n",
        "    print(\"\\nAll prime numbers upto\", upto, \"are : \")\n",
        "\n",
        "    for num in range(2, upto + 1):\n",
        "\n",
        "      i = 2\n",
        "\n",
        "      for i in range(2, num):\n",
        "        if(num % i == 0):\n",
        "            i = num\n",
        "            break;\n",
        "\n",
        "    # If the number is prime then print it.\n",
        "      if(i != num):\n",
        "        print(num, end=\" \")\n",
        "\n",
        "    print(\"\\n\")\n",
        "\n",
        "while loop == 1:\n",
        "    # Print what options you have\n",
        "    print (\"Welcome to math program\")\n",
        "    print (\"your options are:\")\n",
        "    print (\" \")\n",
        "    print(\"1) ODD or Even\")\n",
        "    print(\"2) Factorial\")\n",
        "    print(\"3) Odd number upto n \")\n",
        "    print(\"4) Prime number upto n \")\n",
        "    print(\"5) Quit the program\")\n",
        "    print(\" \")\n",
        "    try:\n",
        "        choice = int(input(\"Choose your option: \"))\n",
        "    except:\n",
        "        print('please enter a valid number for option')\n",
        "    print(\" \")\n",
        "    print(\" \")\n",
        "    if choice == 1:\n",
        "        oddoreven()\n",
        "\n",
        "    elif choice == 2:\n",
        "        factorial() \n",
        "  \n",
        "    elif choice == 3:\n",
        "        oddtilln()\n",
        "\n",
        "    elif choice == 4:\n",
        "         primetilln()\n",
        "        \n",
        "    elif choice == 5:\n",
        "        loop = 0\n",
        "     \n",
        "    else:\n",
        "        print(\"please choice a valid option from 1 to 5\")\n",
        "        choice=0\n",
        "print (\"Thank-you for using math program\")"
      ],
      "execution_count": null,
      "outputs": [
        {
          "output_type": "stream",
          "text": [
            "Welcome to math program\n",
            "your options are:\n",
            " \n",
            "1) ODD or Even\n",
            "2) Factorial\n",
            "3) Odd number upto n \n",
            "4) Prime number upto n \n",
            "5) Quit the program\n",
            " \n",
            "Choose your option: 1\n",
            " \n",
            " \n",
            "Enter a number: 5\n",
            "5 is Odd\n",
            "Welcome to math program\n",
            "your options are:\n",
            " \n",
            "1) ODD or Even\n",
            "2) Factorial\n",
            "3) Odd number upto n \n",
            "4) Prime number upto n \n",
            "5) Quit the program\n",
            " \n",
            "Choose your option: 2\n",
            " \n",
            " \n",
            "enter the number5\n",
            "The factorial of 5 is 1\n",
            "The factorial of 5 is 2\n",
            "The factorial of 5 is 6\n",
            "The factorial of 5 is 24\n",
            "The factorial of 5 is 120\n",
            "Welcome to math program\n",
            "your options are:\n",
            " \n",
            "1) ODD or Even\n",
            "2) Factorial\n",
            "3) Odd number upto n \n",
            "4) Prime number upto n \n",
            "5) Quit the program\n",
            " \n",
            "Choose your option: 3\n",
            " \n",
            " \n",
            " Please Enter any Maximum Value : 7\n",
            "1\n",
            "3\n",
            "5\n",
            "7\n",
            "Welcome to math program\n",
            "your options are:\n",
            " \n",
            "1) ODD or Even\n",
            "2) Factorial\n",
            "3) Odd number upto n \n",
            "4) Prime number upto n \n",
            "5) Quit the program\n",
            " \n",
            "Choose your option: 4\n",
            " \n",
            " \n",
            "Find prime numbers upto : 100\n",
            "\n",
            "All prime numbers upto 100 are : \n",
            "3 5 7 11 13 17 19 23 29 31 37 41 43 47 53 59 61 67 71 73 79 83 89 97 \n",
            "\n",
            "Welcome to math program\n",
            "your options are:\n",
            " \n",
            "1) ODD or Even\n",
            "2) Factorial\n",
            "3) Odd number upto n \n",
            "4) Prime number upto n \n",
            "5) Quit the program\n",
            " \n",
            "Choose your option: 5\n",
            " \n",
            " \n",
            "Thank-you for using math program\n"
          ],
          "name": "stdout"
        }
      ]
    }
  ]
}